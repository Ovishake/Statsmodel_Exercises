{
 "cells": [
  {
   "cell_type": "code",
   "execution_count": 10,
   "metadata": {},
   "outputs": [],
   "source": [
    "%matplotlib inline\n",
    "\n",
    "import warnings\n",
    "import numpy as np\n",
    "import pandas as pd\n",
    "import scipy.stats as st\n",
    "import statsmodels.api as sm\n",
    "import matplotlib\n",
    "import matplotlib.pyplot as plt\n",
    "import seaborn as sns\n",
    "\n",
    "matplotlib.rcParams['figure.figsize'] = (10,10)\n",
    "matplotlib.style.use('ggplot')"
   ]
  },
  {
   "cell_type": "markdown",
   "metadata": {},
   "source": [
    "### Getting the elnino dataset to fit a distribution to it"
   ]
  },
  {
   "cell_type": "code",
   "execution_count": 4,
   "metadata": {},
   "outputs": [],
   "source": [
    "data = pd.Series(sm.datasets.elnino.load_pandas().data.set_index('YEAR').values.ravel())"
   ]
  },
  {
   "cell_type": "code",
   "execution_count": 11,
   "metadata": {
    "scrolled": false
   },
   "outputs": [
    {
     "data": {
      "text/plain": [
       "<matplotlib.axes._subplots.AxesSubplot at 0x25a9bdf8dc0>"
      ]
     },
     "execution_count": 11,
     "metadata": {},
     "output_type": "execute_result"
    },
    {
     "data": {
      "image/png": "[encoded data removed]",
      "text/plain": [
       "<Figure size 720x720 with 1 Axes>"
      ]
     },
     "metadata": {},
     "output_type": "display_data"
    }
   ],
   "source": [
    "sns.distplot(data)"
   ]
  },
  {
   "cell_type": "code",
   "execution_count": 24,
   "metadata": {},
   "outputs": [
    {
     "name": "stdout",
     "output_type": "stream",
     "text": [
      "mean, std.dev:  (23.09262295081967, 2.2443681683984593)\n"
     ]
    }
   ],
   "source": [
    "parameters = st.norm.fit(data)\n",
    "\n",
    "print(\"mean, std.dev: \", parameters)"
   ]
  },
  {
   "cell_type": "markdown",
   "metadata": {},
   "source": [
    "### Look up the KS table"
   ]
  },
  {
   "cell_type": "code",
   "execution_count": 28,
   "metadata": {},
   "outputs": [],
   "source": [
    "ks_table = st.kstest(data, \"norm\", parameters)"
   ]
  },
  {
   "cell_type": "markdown",
   "metadata": {},
   "source": [
    "### looking at the KS table"
   ]
  },
  {
   "cell_type": "code",
   "execution_count": 29,
   "metadata": {},
   "outputs": [
    {
     "name": "stdout",
     "output_type": "stream",
     "text": [
      "5.291208517201392e-06\n"
     ]
    }
   ],
   "source": [
    "p_value = ks_table[1]/np.sqrt(len(data))\n",
    "\n",
    "print(p_value)"
   ]
  },
  {
   "cell_type": "markdown",
   "metadata": {},
   "source": [
    "### Look up the KS table after fitting the data\n",
    "Lower the p value better the fit"
   ]
  },
  {
   "cell_type": "code",
   "execution_count": 37,
   "metadata": {},
   "outputs": [
    {
     "name": "stderr",
     "output_type": "stream",
     "text": [
      "<ipython-input-37-cfb457ae96dd>:16: DeprecationWarning: `frechet_r` is deprecated!\n",
      "The distribution `frechet_r` is a synonym for `weibull_min`; this historical\n",
      "usage is deprecated because of possible confusion with the (quite different)\n",
      "Frechet distribution.  To preserve the existing behavior of the program, use\n",
      "`scipy.stats.weibull_min`.  For the Frechet distribution (i.e. the Type II\n",
      "extreme value distribution), use `scipy.stats.invweibull`.\n",
      "  param = dist_.fit(data)\n",
      "<ipython-input-37-cfb457ae96dd>:16: DeprecationWarning: `frechet_l` is deprecated!\n",
      "The distribution `frechet_l` is a synonym for `weibull_max`; this historical\n",
      "usage is deprecated because of possible confusion with the (quite different)\n",
      "Frechet distribution.  To preserve the existing behavior of the program, use\n",
      "`scipy.stats.weibull_max`.  For the Frechet distribution (i.e. the Type II\n",
      "extreme value distribution), use `scipy.stats.invweibull`.\n",
      "  param = dist_.fit(data)\n"
     ]
    }
   ],
   "source": [
    "DISTRIBUTIONS = ['alpha','anglit','arcsine','beta','betaprime','bradford','burr','burr12','cauchy','chi',\\\n",
    "                 'chi2','cosine','dgamma','dweibull','erlang','expon','exponnorm','exponweib','exponpow',\\\n",
    "                 'f','fatiguelife','fisk','foldcauchy','foldnorm','frechet_r','frechet_l','genlogistic',\\\n",
    "                 'genpareto','gennorm','genexpon','genextreme','gausshyper','gamma','gengamma','genhalflogistic',\\\n",
    "                 'gilbrat','gompertz','gumbel_r','gumbel_l','halfcauchy','halflogistic','halfnorm','halfgennorm',\\\n",
    "                 'hypsecant','invgamma','invgauss','invweibull','johnsonsb','johnsonsu','kstwobign','laplace',\\\n",
    "                 'levy','levy_l','logistic','loggamma','loglaplace','lognorm','lomax','maxwell','mielke',\\\n",
    "                 'nakagami','ncx2','ncf','nct','norm','pareto','pearson3','powerlaw','powerlognorm','powernorm',\\\n",
    "                 'rdist','reciprocal','rayleigh','rice','recipinvgauss','semicircular','t','triang','truncexpon',\\\n",
    "                 'truncnorm','tukeylambda','uniform','vonmises','vonmises_line','wald','weibull_min','weibull_max']\n",
    "\n",
    "results = []\n",
    "\n",
    "for dist in DISTRIBUTIONS:\n",
    "    dist_ = getattr(st, dist)\n",
    "    param = dist_.fit(data)\n",
    "    kstest = st.kstest(data, dist, args=param)\n",
    "    results.append((dist,kstest[0],kstest[1]))"
   ]
  },
  {
   "cell_type": "code",
   "execution_count": 41,
   "metadata": {},
   "outputs": [
    {
     "name": "stdout",
     "output_type": "stream",
     "text": [
      "gausshyper: statistic=0.04094564877407825, pvalue=0.16706517884713523\n",
      "beta: statistic=0.043235718541617674, pvalue=0.12581576796646943\n",
      "johnsonsb: statistic=0.04431498658903821, pvalue=0.10948328782404126\n",
      "dgamma: statistic=0.051649967284787934, pvalue=0.03885229011602209\n",
      "gompertz: statistic=0.052491807954295255, pvalue=0.03414925799689872\n",
      "mielke: statistic=nan, pvalue=nan\n",
      "triang: statistic=0.05522500895696436, pvalue=0.02214193607678325\n",
      "exponweib: statistic=0.056890681848150215, pvalue=0.01682155311379741\n",
      "gengamma: statistic=0.0589166676445656, pvalue=0.01191035147527745\n",
      "rice: statistic=0.06102282145560889, pvalue=0.008212820246617044\n",
      "maxwell: statistic=0.06404394460502716, pvalue=0.004710141526879334\n",
      "frechet_l: statistic=0.06568368766098742, pvalue=0.0034442601106409315\n",
      "weibull_max: statistic=0.06568368766098742, pvalue=0.0034442601106409315\n",
      "genextreme: statistic=0.06568607019793615, pvalue=0.003442674191650908\n",
      "rayleigh: statistic=0.06667093885956632, pvalue=0.0028417955974924447\n",
      "nct: statistic=0.06736783181117822, pvalue=0.0024768413521004465\n",
      "alpha: statistic=0.06820583712044803, pvalue=0.0020955283230409357\n",
      "invgamma: statistic=0.06836094938838672, pvalue=0.002031215999750127\n",
      "nakagami: statistic=0.06837907937692234, pvalue=0.0020238196332867556\n",
      "genexpon: statistic=0.06871178044591186, pvalue=0.0018924472702361507\n",
      "betaprime: statistic=0.06908129640773147, pvalue=0.0017558379439832799\n",
      "f: statistic=0.06932003447001367, pvalue=0.0016725087735807327\n",
      "ncf: statistic=0.07062749471632518, pvalue=0.0012777095399638832\n",
      "johnsonsu: statistic=0.07093889478770454, pvalue=0.0011974535304550271\n",
      "lognorm: statistic=0.07114166362391317, pvalue=0.0011477485073291842\n",
      "fatiguelife: statistic=0.0735462437572576, pvalue=0.0006878470624966806\n",
      "recipinvgauss: statistic=0.07372429452751972, pvalue=0.0006618093780007686\n",
      "invgauss: statistic=0.07394328340363243, pvalue=0.0006310517728411037\n",
      "fisk: statistic=0.07459213593681224, pvalue=0.00054760379496533\n",
      "logistic: statistic=0.07470088258426077, pvalue=0.0005346749962845511\n",
      "foldnorm: statistic=0.07479916454920944, pvalue=0.0005232374346808645\n",
      "gamma: statistic=0.07576024638902235, pvalue=0.0004228761291130952\n",
      "erlang: statistic=0.07577347828401815, pvalue=0.00042163009068109305\n",
      "chi2: statistic=0.07577349446589143, pvalue=0.0004216285689619325\n",
      "pearson3: statistic=0.07577398387251666, pvalue=0.0004215825483358333\n",
      "vonmises_line: statistic=0.0761707486465818, pvalue=0.0003857887807040894\n",
      "hypsecant: statistic=0.07733850045469326, pvalue=0.000296325748808795\n",
      "exponnorm: statistic=0.07930831222175466, pvalue=0.00018816139201772566\n",
      "powerlognorm: statistic=0.07975875419710032, pvalue=0.00016932794946448274\n",
      "gumbel_r: statistic=0.0800353505498913, pvalue=0.0001586627023206967\n",
      "genlogistic: statistic=0.08039619024307176, pvalue=0.0001457029283784041\n",
      "t: statistic=0.08045528430646648, pvalue=0.00014367852855677281\n",
      "norm: statistic=0.08047065707015227, pvalue=0.00014315628418994862\n",
      "loggamma: statistic=0.08085074360172717, pvalue=0.00013080161290291464\n",
      "kstwobign: statistic=0.08152992763883748, pvalue=0.00011120115973373601\n",
      "burr: statistic=0.08260342449264024, pvalue=8.579591110966195e-05\n",
      "invweibull: statistic=0.08281223561351136, pvalue=8.154252477417506e-05\n",
      "gennorm: statistic=0.08318790983570318, pvalue=7.438999980156793e-05\n",
      "dweibull: statistic=0.0866005613153018, pvalue=3.1698611202010445e-05\n",
      "burr12: statistic=0.08795789798656234, pvalue=2.236313541892064e-05\n",
      "rdist: statistic=0.09130062168261416, pvalue=9.253834463206319e-06\n",
      "cosine: statistic=0.09153456001340954, pvalue=8.688909387682816e-06\n",
      "tukeylambda: statistic=0.09224078588616175, pvalue=7.177170515044055e-06\n",
      "loglaplace: statistic=0.10384693814129842, pvalue=2.510554574431138e-07\n",
      "gumbel_l: statistic=0.10462535268805401, pvalue=1.9764856780145232e-07\n",
      "laplace: statistic=0.10620513969094458, pvalue=1.2096918438072229e-07\n",
      "truncexpon: statistic=0.12467213125925547, pvalue=2.2435144040469394e-10\n",
      "anglit: statistic=0.1295165269909604, pvalue=3.6401875166601886e-11\n",
      "halfnorm: statistic=0.13107023334622706, pvalue=2.0014958582348428e-11\n",
      "ncx2: statistic=0.13108342942351, pvalue=1.9912920194586938e-11\n",
      "cauchy: statistic=0.13133066320430953, pvalue=1.8092779988841393e-11\n",
      "foldcauchy: statistic=0.13236293657472065, pvalue=1.2101241549577624e-11\n",
      "halflogistic: statistic=0.13808327647430366, pvalue=1.2294534899823975e-12\n",
      "bradford: statistic=0.1432901637983206, pvalue=1.4080830847207172e-13\n",
      "wald: statistic=0.14732597579475437, pvalue=2.4821508968450996e-14\n",
      "semicircular: statistic=0.1578640363088059, pvalue=2.118020780212675e-16\n",
      "gilbrat: statistic=0.16655671129517868, pvalue=3.2318108766094903e-18\n",
      "expon: statistic=0.18567997637002637, pvalue=1.450822077803433e-22\n",
      "lomax: statistic=0.19238821673622641, pvalue=3.3206624709817404e-24\n",
      "uniform: statistic=0.20705682741480635, pvalue=5.3000749459337075e-28\n",
      "pareto: statistic=0.20799479688129074, pvalue=2.9624235753357635e-28\n",
      "powerlaw: statistic=0.22287170918583676, pvalue=2.0207564595190897e-32\n",
      "halfcauchy: statistic=0.23923674767469427, pvalue=2.3684735094296704e-37\n",
      "halfgennorm: statistic=0.2725925767269244, pvalue=1.5057556614458383e-48\n",
      "arcsine: statistic=0.2850840075341752, pvalue=3.826317818152791e-53\n",
      "genhalflogistic: statistic=0.3419815780914566, pvalue=6.3106604024196866e-77\n",
      "levy: statistic=0.39852566348673935, pvalue=2.130639156450623e-105\n",
      "genpareto: statistic=0.4722769785185446, pvalue=2.316931513465882e-150\n",
      "levy_l: statistic=0.5081706096866735, pvalue=9.84852462982692e-176\n",
      "frechet_r: statistic=0.5575250639805749, pvalue=9.751966803734714e-215\n",
      "weibull_min: statistic=0.5575250639805749, pvalue=9.751966803734714e-215\n",
      "chi: statistic=0.5607445011180602, pvalue=1.85427154187856e-217\n",
      "exponpow: statistic=0.6936243451051912, pvalue=0.0\n",
      "powernorm: statistic=0.924863387978142, pvalue=0.0\n",
      "reciprocal: statistic=1.0, pvalue=0.0\n",
      "truncnorm: statistic=1.0, pvalue=0.0\n",
      "vonmises: statistic=1.0198902926496198e+26, pvalue=0.0\n"
     ]
    }
   ],
   "source": [
    "results.sort(key=lambda x:float(x[2]), reverse=True)\n",
    "\n",
    "p_values = []\n",
    "\n",
    "for j in results:\n",
    "    print(\"{}: statistic={}, pvalue={}\".format(j[0], j[1], j[2]))\n",
    "    p_values.append(j[2]/np.sqrt(len(data)))"
   ]
  }
 ],
 "metadata": {
  "kernelspec": {
   "display_name": "Python 3",
   "language": "python",
   "name": "python3"
  },
  "language_info": {
   "codemirror_mode": {
    "name": "ipython",
    "version": 3
   },
   "file_extension": ".py",
   "mimetype": "text/x-python",
   "name": "python",
   "nbconvert_exporter": "python",
   "pygments_lexer": "ipython3",
   "version": "3.8.3"
  }
 },
 "nbformat": 4,
 "nbformat_minor": 4
}
